{
 "cells": [
  {
   "cell_type": "code",
   "execution_count": 2,
   "id": "8e0022c6-d445-4dda-ac52-a4db7f68ad6f",
   "metadata": {},
   "outputs": [
    {
     "name": "stdout",
     "output_type": "stream",
     "text": [
      "\n",
      "Welcome to the ABC ATM\n"
     ]
    },
    {
     "name": "stdin",
     "output_type": "stream",
     "text": [
      "Please enter your four-digit PIN:  2004\n"
     ]
    },
    {
     "name": "stdout",
     "output_type": "stream",
     "text": [
      "What do you want to do?\n",
      "1. Withdraw Cash\n",
      "2. Deposit Cash\n",
      "3. Balance Enquiry\n",
      "4. Quit\n"
     ]
    },
    {
     "name": "stdin",
     "output_type": "stream",
     "text": [
      "Enter the number corresponding to the activity you want to do:  1\n",
      "Enter the amount of money you want to withdraw:  1000\n"
     ]
    },
    {
     "name": "stdout",
     "output_type": "stream",
     "text": [
      "1000 Rupees successfully withdrawn. Your remaining balance is 0 Rupees.\n",
      "\n",
      "What do you want to do?\n",
      "1. Withdraw Cash\n",
      "2. Deposit Cash\n",
      "3. Balance Enquiry\n",
      "4. Quit\n"
     ]
    },
    {
     "name": "stdin",
     "output_type": "stream",
     "text": [
      "Enter the number corresponding to the activity you want to do:  2\n",
      "Enter the amount of money you want to deposit:  40000\n"
     ]
    },
    {
     "name": "stdout",
     "output_type": "stream",
     "text": [
      "40000 Rupees successfully deposited. Your updated balance is 40000 Rupees.\n",
      "\n",
      "What do you want to do?\n",
      "1. Withdraw Cash\n",
      "2. Deposit Cash\n",
      "3. Balance Enquiry\n",
      "4. Quit\n"
     ]
    },
    {
     "name": "stdin",
     "output_type": "stream",
     "text": [
      "Enter the number corresponding to the activity you want to do:  3\n"
     ]
    },
    {
     "name": "stdout",
     "output_type": "stream",
     "text": [
      "Total balance: 40000 Rupees.\n",
      "\n",
      "What do you want to do?\n",
      "1. Withdraw Cash\n",
      "2. Deposit Cash\n",
      "3. Balance Enquiry\n",
      "4. Quit\n"
     ]
    },
    {
     "name": "stdin",
     "output_type": "stream",
     "text": [
      "Enter the number corresponding to the activity you want to do:  4\n"
     ]
    }
   ],
   "source": [
    "\n",
    "\n",
    "user = {'pin': 2004, 'balance': 1000, 'transaction_history': []}\n",
    "\n",
    "def withdraw_cash():\n",
    "    while True:\n",
    "        amount = int(input(\"Enter the amount of money you want to withdraw: \"))\n",
    "        if amount > user['balance']:\n",
    "            print(\"You don't have sufficient balance to make this withdrawal.\")\n",
    "        else:\n",
    "            user['balance'] -= amount\n",
    "            user['transaction_history'].append(f\"Withdrawal: -{amount} Rupees\")\n",
    "            print(f\"{amount} Rupees successfully withdrawn. Your remaining balance is {user['balance']} Rupees.\")\n",
    "            print('')\n",
    "            return False\n",
    "\n",
    "def deposit_cash():\n",
    "    amount = int(input(\"Enter the amount of money you want to deposit: \"))\n",
    "    user['balance'] += amount\n",
    "    user['transaction_history'].append(f\"Deposit: +{amount} Rupees\")\n",
    "    print(f\"{amount} Rupees successfully deposited. Your updated balance is {user['balance']} Rupees.\")\n",
    "    print('')\n",
    "\n",
    "def balance_enquiry():\n",
    "    print(f\"Total balance: {user['balance']} Rupees.\")\n",
    "    print('')\n",
    "\n",
    "is_quit = False\n",
    "print('')\n",
    "print(\"Welcome to the ABC ATM\")\n",
    "pin = int(input('Please enter your four-digit PIN: '))\n",
    "\n",
    "if pin == user['pin']:\n",
    "    while not is_quit:\n",
    "        print(\"What do you want to do?\")\n",
    "        print(\"1. Withdraw Cash\\n2. Deposit Cash\\n3. Balance Enquiry\\n4. Quit\")\n",
    "        query = int(input(\"Enter the number corresponding to the activity you want to do: \"))\n",
    "        if query == 1:\n",
    "            withdraw_cash()\n",
    "        elif query == 2:\n",
    "            deposit_cash()\n",
    "        elif query == 3:\n",
    "            balance_enquiry()\n",
    "        elif query == 4:\n",
    "            is_quit = True\n",
    "        else:\n",
    "            print(\"Please enter a correct value as shown.\")\n",
    "else:\n",
    "    print(\"Entered wrong PIN.\")\n"
   ]
  },
  {
   "cell_type": "code",
   "execution_count": null,
   "id": "a87258c9-4506-428b-a479-448f54ef9c78",
   "metadata": {},
   "outputs": [],
   "source": []
  }
 ],
 "metadata": {
  "kernelspec": {
   "display_name": "Python 3 (ipykernel)",
   "language": "python",
   "name": "python3"
  },
  "language_info": {
   "codemirror_mode": {
    "name": "ipython",
    "version": 3
   },
   "file_extension": ".py",
   "mimetype": "text/x-python",
   "name": "python",
   "nbconvert_exporter": "python",
   "pygments_lexer": "ipython3",
   "version": "3.12.3"
  }
 },
 "nbformat": 4,
 "nbformat_minor": 5
}
